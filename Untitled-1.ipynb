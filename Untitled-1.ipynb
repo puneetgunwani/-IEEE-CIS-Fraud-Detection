{
 "cells": [
  {
   "cell_type": "code",
   "execution_count": 1,
   "metadata": {},
   "outputs": [],
   "source": [
    "import pandas as pd\n",
    "df = pd.read_csv(r\"C:\\Users\\punee\\Downloads\\Liquidity_Data.csv\")"
   ]
  },
  {
   "cell_type": "code",
   "execution_count": 2,
   "metadata": {},
   "outputs": [
    {
     "data": {
      "text/html": [
       "<div>\n",
       "<style scoped>\n",
       "    .dataframe tbody tr th:only-of-type {\n",
       "        vertical-align: middle;\n",
       "    }\n",
       "\n",
       "    .dataframe tbody tr th {\n",
       "        vertical-align: top;\n",
       "    }\n",
       "\n",
       "    .dataframe thead th {\n",
       "        text-align: right;\n",
       "    }\n",
       "</style>\n",
       "<table border=\"1\" class=\"dataframe\">\n",
       "  <thead>\n",
       "    <tr style=\"text-align: right;\">\n",
       "      <th></th>\n",
       "      <th>AVGT</th>\n",
       "      <th>VOLUME</th>\n",
       "      <th>NTRAN</th>\n",
       "      <th>PRICE</th>\n",
       "      <th>SHARE</th>\n",
       "      <th>VALUE</th>\n",
       "      <th>DEBEQ</th>\n",
       "      <th>TIC</th>\n",
       "      <th>COMPANY</th>\n",
       "    </tr>\n",
       "  </thead>\n",
       "  <tbody>\n",
       "    <tr>\n",
       "      <th>0</th>\n",
       "      <td>3.452</td>\n",
       "      <td>16.221001</td>\n",
       "      <td>6273</td>\n",
       "      <td>37.250</td>\n",
       "      <td>81.140999</td>\n",
       "      <td>3.002</td>\n",
       "      <td>0.897</td>\n",
       "      <td>AA</td>\n",
       "      <td>ALUMINUM CO AMER</td>\n",
       "    </tr>\n",
       "    <tr>\n",
       "      <th>1</th>\n",
       "      <td>13.561</td>\n",
       "      <td>5.693000</td>\n",
       "      <td>1548</td>\n",
       "      <td>22.500</td>\n",
       "      <td>27.087999</td>\n",
       "      <td>0.609</td>\n",
       "      <td>6.394</td>\n",
       "      <td>AAL</td>\n",
       "      <td>ALEXANDER &amp; ALEX SVCS</td>\n",
       "    </tr>\n",
       "    <tr>\n",
       "      <th>2</th>\n",
       "      <td>2.884</td>\n",
       "      <td>11.965000</td>\n",
       "      <td>7582</td>\n",
       "      <td>21.000</td>\n",
       "      <td>189.679993</td>\n",
       "      <td>4.007</td>\n",
       "      <td>1.792</td>\n",
       "      <td>AEP</td>\n",
       "      <td>AMERICAN ELEC PWR INC</td>\n",
       "    </tr>\n",
       "    <tr>\n",
       "      <th>3</th>\n",
       "      <td>5.674</td>\n",
       "      <td>3.834000</td>\n",
       "      <td>3771</td>\n",
       "      <td>24.375</td>\n",
       "      <td>13.492000</td>\n",
       "      <td>0.325</td>\n",
       "      <td>3.089</td>\n",
       "      <td>AGE</td>\n",
       "      <td>EDWARDS AG INC</td>\n",
       "    </tr>\n",
       "    <tr>\n",
       "      <th>4</th>\n",
       "      <td>2.909</td>\n",
       "      <td>13.235000</td>\n",
       "      <td>7434</td>\n",
       "      <td>28.750</td>\n",
       "      <td>72.599998</td>\n",
       "      <td>2.087</td>\n",
       "      <td>0.644</td>\n",
       "      <td>AHS</td>\n",
       "      <td>AMERICAN HOSP SUPPLY</td>\n",
       "    </tr>\n",
       "  </tbody>\n",
       "</table>\n",
       "</div>"
      ],
      "text/plain": [
       "     AVGT     VOLUME  NTRAN   PRICE       SHARE  VALUE  DEBEQ   TIC  \\\n",
       "0   3.452  16.221001   6273  37.250   81.140999  3.002  0.897    AA   \n",
       "1  13.561   5.693000   1548  22.500   27.087999  0.609  6.394   AAL   \n",
       "2   2.884  11.965000   7582  21.000  189.679993  4.007  1.792   AEP   \n",
       "3   5.674   3.834000   3771  24.375   13.492000  0.325  3.089   AGE   \n",
       "4   2.909  13.235000   7434  28.750   72.599998  2.087  0.644   AHS   \n",
       "\n",
       "                  COMPANY  \n",
       "0        ALUMINUM CO AMER  \n",
       "1   ALEXANDER & ALEX SVCS  \n",
       "2   AMERICAN ELEC PWR INC  \n",
       "3          EDWARDS AG INC  \n",
       "4    AMERICAN HOSP SUPPLY  "
      ]
     },
     "execution_count": 2,
     "metadata": {},
     "output_type": "execute_result"
    }
   ],
   "source": [
    "df.head()"
   ]
  },
  {
   "cell_type": "code",
   "execution_count": 3,
   "metadata": {},
   "outputs": [
    {
     "name": "stdout",
     "output_type": "stream",
     "text": [
      "<class 'pandas.core.frame.DataFrame'>\n",
      "RangeIndex: 123 entries, 0 to 122\n",
      "Data columns (total 9 columns):\n",
      " #   Column   Non-Null Count  Dtype  \n",
      "---  ------   --------------  -----  \n",
      " 0   AVGT     123 non-null    float64\n",
      " 1   VOLUME   123 non-null    float64\n",
      " 2   NTRAN    123 non-null    int64  \n",
      " 3   PRICE    123 non-null    float64\n",
      " 4   SHARE    123 non-null    float64\n",
      " 5   VALUE    123 non-null    float64\n",
      " 6   DEBEQ    123 non-null    float64\n",
      " 7   TIC      123 non-null    object \n",
      " 8   COMPANY  123 non-null    object \n",
      "dtypes: float64(6), int64(1), object(2)\n",
      "memory usage: 8.8+ KB\n"
     ]
    }
   ],
   "source": [
    "df.info()"
   ]
  },
  {
   "cell_type": "code",
   "execution_count": 6,
   "metadata": {},
   "outputs": [],
   "source": [
    "data = df.drop(columns=['TIC', 'COMPANY'])\n"
   ]
  },
  {
   "cell_type": "code",
   "execution_count": 9,
   "metadata": {},
   "outputs": [
    {
     "data": {
      "text/html": [
       "<div>\n",
       "<style scoped>\n",
       "    .dataframe tbody tr th:only-of-type {\n",
       "        vertical-align: middle;\n",
       "    }\n",
       "\n",
       "    .dataframe tbody tr th {\n",
       "        vertical-align: top;\n",
       "    }\n",
       "\n",
       "    .dataframe thead th {\n",
       "        text-align: right;\n",
       "    }\n",
       "</style>\n",
       "<table border=\"1\" class=\"dataframe\">\n",
       "  <thead>\n",
       "    <tr style=\"text-align: right;\">\n",
       "      <th></th>\n",
       "      <th>AVGT</th>\n",
       "      <th>VOLUME</th>\n",
       "      <th>NTRAN</th>\n",
       "      <th>PRICE</th>\n",
       "      <th>SHARE</th>\n",
       "      <th>VALUE</th>\n",
       "      <th>DEBEQ</th>\n",
       "    </tr>\n",
       "  </thead>\n",
       "  <tbody>\n",
       "    <tr>\n",
       "      <th>0</th>\n",
       "      <td>3.452</td>\n",
       "      <td>16.221001</td>\n",
       "      <td>6273</td>\n",
       "      <td>37.250</td>\n",
       "      <td>81.140999</td>\n",
       "      <td>3.002</td>\n",
       "      <td>0.897</td>\n",
       "    </tr>\n",
       "    <tr>\n",
       "      <th>1</th>\n",
       "      <td>13.561</td>\n",
       "      <td>5.693000</td>\n",
       "      <td>1548</td>\n",
       "      <td>22.500</td>\n",
       "      <td>27.087999</td>\n",
       "      <td>0.609</td>\n",
       "      <td>6.394</td>\n",
       "    </tr>\n",
       "    <tr>\n",
       "      <th>2</th>\n",
       "      <td>2.884</td>\n",
       "      <td>11.965000</td>\n",
       "      <td>7582</td>\n",
       "      <td>21.000</td>\n",
       "      <td>189.679993</td>\n",
       "      <td>4.007</td>\n",
       "      <td>1.792</td>\n",
       "    </tr>\n",
       "    <tr>\n",
       "      <th>3</th>\n",
       "      <td>5.674</td>\n",
       "      <td>3.834000</td>\n",
       "      <td>3771</td>\n",
       "      <td>24.375</td>\n",
       "      <td>13.492000</td>\n",
       "      <td>0.325</td>\n",
       "      <td>3.089</td>\n",
       "    </tr>\n",
       "    <tr>\n",
       "      <th>4</th>\n",
       "      <td>2.909</td>\n",
       "      <td>13.235000</td>\n",
       "      <td>7434</td>\n",
       "      <td>28.750</td>\n",
       "      <td>72.599998</td>\n",
       "      <td>2.087</td>\n",
       "      <td>0.644</td>\n",
       "    </tr>\n",
       "  </tbody>\n",
       "</table>\n",
       "</div>"
      ],
      "text/plain": [
       "     AVGT     VOLUME  NTRAN   PRICE       SHARE  VALUE  DEBEQ\n",
       "0   3.452  16.221001   6273  37.250   81.140999  3.002  0.897\n",
       "1  13.561   5.693000   1548  22.500   27.087999  0.609  6.394\n",
       "2   2.884  11.965000   7582  21.000  189.679993  4.007  1.792\n",
       "3   5.674   3.834000   3771  24.375   13.492000  0.325  3.089\n",
       "4   2.909  13.235000   7434  28.750   72.599998  2.087  0.644"
      ]
     },
     "execution_count": 9,
     "metadata": {},
     "output_type": "execute_result"
    }
   ],
   "source": [
    "data.head()"
   ]
  },
  {
   "cell_type": "code",
   "execution_count": 10,
   "metadata": {},
   "outputs": [],
   "source": [
    "\n",
    "X = data.drop(columns=['VOLUME'])\n",
    "y = data['VOLUME']\n"
   ]
  },
  {
   "cell_type": "code",
   "execution_count": 11,
   "metadata": {},
   "outputs": [],
   "source": [
    "from sklearn.model_selection import train_test_split\n",
    "X_train, X_test, y_train, y_test = train_test_split(X, y , test_size=0.2, random_state=42)"
   ]
  },
  {
   "cell_type": "code",
   "execution_count": 14,
   "metadata": {},
   "outputs": [
    {
     "name": "stdout",
     "output_type": "stream",
     "text": [
      "Model score (R²): 0.8720942610089261\n",
      "R² score: 0.8720942610089261\n"
     ]
    }
   ],
   "source": [
    "from sklearn.linear_model import LinearRegression\n",
    "from sklearn.metrics import r2_score\n",
    "model = LinearRegression()\n",
    "model.fit(X_train, y_train)\n",
    "y_pred = model.predict(X_test)\n",
    "\n",
    "# Evaluate the model using the test set\n",
    "score = model.score(X_test, y_test)  # R² score on the test set\n",
    "print(\"Model score (R²):\", score)\n",
    "\n",
    "# Alternatively, calculate R² score directly\n",
    "r2 = r2_score(y_test, y_pred)\n",
    "print(\"R² score:\", r2)\n",
    "\n",
    "\n"
   ]
  }
 ],
 "metadata": {
  "kernelspec": {
   "display_name": "Python 3",
   "language": "python",
   "name": "python3"
  },
  "language_info": {
   "codemirror_mode": {
    "name": "ipython",
    "version": 3
   },
   "file_extension": ".py",
   "mimetype": "text/x-python",
   "name": "python",
   "nbconvert_exporter": "python",
   "pygments_lexer": "ipython3",
   "version": "3.11.5"
  }
 },
 "nbformat": 4,
 "nbformat_minor": 2
}
